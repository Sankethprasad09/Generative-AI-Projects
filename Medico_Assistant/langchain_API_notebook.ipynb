{
  "cells": [
    {
      "cell_type": "code",
      "execution_count": null,
      "id": "3d42c20b-58e1-4130-b1fe-276bf1dddde1",
      "metadata": {
        "id": "3d42c20b-58e1-4130-b1fe-276bf1dddde1"
      },
      "outputs": [],
      "source": [
        "### Required Package Installations (Uncomment if Needed)\n",
        "# Uncomment and run these lines if the required packages are not installed\n",
        "# !pip install langchain\n",
        "# !pip install openai==0.28\n",
        "# !pip install streamlit\n",
        "# !pip install transformers"
      ]
    },
    {
      "cell_type": "code",
      "execution_count": null,
      "id": "cfeb7fa7-9206-43ba-a31e-5b0bea3b2a4c",
      "metadata": {
        "id": "cfeb7fa7-9206-43ba-a31e-5b0bea3b2a4c",
        "outputId": "92ec8830-c34b-41b5-f800-9d278962a19a"
      },
      "outputs": [
        {
          "data": {
            "text/plain": [
              "True"
            ]
          },
          "execution_count": 2,
          "metadata": {},
          "output_type": "execute_result"
        }
      ],
      "source": [
        "### Load Environment Variables\n",
        "from dotenv import load_dotenv\n",
        "load_dotenv()  # This loads environment variables from a .env file"
      ]
    },
    {
      "cell_type": "code",
      "execution_count": null,
      "id": "994c99b7-93b5-4644-bc8c-e3d15d072b88",
      "metadata": {
        "id": "994c99b7-93b5-4644-bc8c-e3d15d072b88"
      },
      "outputs": [],
      "source": [
        "### Retrieve API Key from Environment Variables\n",
        "import os\n",
        "HUGGINGFACE_API_KEY = os.getenv(\"HUGGINGFACE_API_KEY\")  # Fetch API key securely"
      ]
    },
    {
      "cell_type": "code",
      "execution_count": null,
      "id": "087e7e94-de87-4b6d-9ff3-fbe8a7ef2b16",
      "metadata": {
        "id": "087e7e94-de87-4b6d-9ff3-fbe8a7ef2b16"
      },
      "outputs": [],
      "source": [
        "### API Request to Hugging Face Inference Endpoint\n",
        "import requests\n",
        "\n",
        "# Define API details\n",
        "API_URL = \"https://api-inference.huggingface.co/models/meta-llama/Llama-2-7b-hf\"\n",
        "headers = {\"Authorization\": f\"Bearer {HUGGINGFACE_API_KEY}\"}  # Set authorization header\n",
        "\n",
        "# Function to send input queries to the model\n",
        "def query(payload):\n",
        "\tresponse = requests.post(API_URL, headers=headers, json=payload)\n",
        "\treturn response.json() # Return response in JSON format\n",
        "\n",
        "# Example API request\n",
        "output = query({\n",
        "\t\"inputs\": \"Can you please let us know more details about your \",\n",
        "})"
      ]
    },
    {
      "cell_type": "code",
      "execution_count": null,
      "id": "3a322844-b63e-49bf-868f-a72224a1eda6",
      "metadata": {
        "id": "3a322844-b63e-49bf-868f-a72224a1eda6",
        "outputId": "a9987b4a-3771-4638-986d-eba91bf1820b"
      },
      "outputs": [
        {
          "data": {
            "text/plain": [
              "{'error': 'Model meta-llama/Llama-2-7b-hf is currently loading',\n",
              " 'estimated_time': 539.0735473632812}"
            ]
          },
          "execution_count": 22,
          "metadata": {},
          "output_type": "execute_result"
        }
      ],
      "source": [
        "output"
      ]
    },
    {
      "cell_type": "code",
      "execution_count": null,
      "id": "d3af28ad-5493-40d5-9be3-e45e90351dcb",
      "metadata": {
        "id": "d3af28ad-5493-40d5-9be3-e45e90351dcb"
      },
      "outputs": [],
      "source": [
        "# Garbage collection and memory cleanup\n",
        "import gc\n",
        "gc.collect()\n",
        "del pipe"
      ]
    },
    {
      "cell_type": "code",
      "execution_count": null,
      "id": "50ffa395-0741-40d3-9ba2-7e31f79ebd1b",
      "metadata": {
        "id": "50ffa395-0741-40d3-9ba2-7e31f79ebd1b"
      },
      "outputs": [],
      "source": [
        "import langchain\n",
        "import os\n",
        "import openai\n",
        "import streamlit as st\n",
        "\n",
        "\n",
        "import warnings\n",
        "# Suppress warnings\n",
        "warnings.filterwarnings(\"ignore\")"
      ]
    },
    {
      "cell_type": "code",
      "execution_count": null,
      "id": "ad9448b3-f12e-4095-8f48-9c8eda8ad960",
      "metadata": {
        "id": "ad9448b3-f12e-4095-8f48-9c8eda8ad960"
      },
      "outputs": [],
      "source": [
        "from langchain.llms import OpenAI"
      ]
    },
    {
      "cell_type": "code",
      "execution_count": null,
      "id": "1d806653-2510-4447-9ee3-1f4ad9a58244",
      "metadata": {
        "id": "1d806653-2510-4447-9ee3-1f4ad9a58244"
      },
      "outputs": [],
      "source": [
        "# OpenAI Model Setup\n",
        "api_key = open('OpenAI API Key.txt').read()\n",
        "os.environ['OPENAI_API_KEY'] = api_key"
      ]
    },
    {
      "cell_type": "code",
      "execution_count": null,
      "id": "eaecefd8-0435-4d65-aa50-9abed2909c7b",
      "metadata": {
        "id": "eaecefd8-0435-4d65-aa50-9abed2909c7b"
      },
      "outputs": [],
      "source": [
        "# Initialize OpenAI model\n",
        "llm = OpenAI(model_name='gpt-3.5-turbo')"
      ]
    },
    {
      "cell_type": "code",
      "execution_count": null,
      "id": "0597891a-db44-43e5-a9dd-b3bce171d632",
      "metadata": {
        "id": "0597891a-db44-43e5-a9dd-b3bce171d632",
        "outputId": "834a4ea6-2fcb-4f8a-8fdf-fb86efddd339"
      },
      "outputs": [
        {
          "data": {
            "text/plain": [
              "\"The time it takes to become healthy depends on various factors, such as an individual's starting point, current health conditions, lifestyle habits, and goals. There is no fixed time frame as health is a lifelong journey. However, making positive changes such as improving nutrition, incorporating regular exercise, getting enough sleep, managing stress, and quitting unhealthy habits can yield noticeable improvements in a few weeks or months. It is important to note that consistency and commitment are crucial in maintaining long-term health.\""
            ]
          },
          "execution_count": 6,
          "metadata": {},
          "output_type": "execute_result"
        }
      ],
      "source": [
        "# Example query to OpenAI LLM\n",
        "llm(\"How long does it take to become healthy\")"
      ]
    },
    {
      "cell_type": "code",
      "execution_count": null,
      "id": "1cc22c9f-3ae0-450b-9c11-126d305aed30",
      "metadata": {
        "id": "1cc22c9f-3ae0-450b-9c11-126d305aed30"
      },
      "outputs": [],
      "source": [
        "from langchain.chat_models import ChatOpenAI"
      ]
    },
    {
      "cell_type": "code",
      "execution_count": null,
      "id": "84f12e3a-53ba-4e1e-849b-05699d604be3",
      "metadata": {
        "id": "84f12e3a-53ba-4e1e-849b-05699d604be3"
      },
      "outputs": [],
      "source": [
        "# Initialize chat-based OpenAI model\n",
        "chat = ChatOpenAI()"
      ]
    },
    {
      "cell_type": "code",
      "execution_count": null,
      "id": "1bf9a4ef-1f51-4bd9-9d4a-b1444ec79672",
      "metadata": {
        "id": "1bf9a4ef-1f51-4bd9-9d4a-b1444ec79672"
      },
      "outputs": [],
      "source": [
        "from langchain.schema import HumanMessage, SystemMessage, HumanMessage"
      ]
    },
    {
      "cell_type": "code",
      "execution_count": null,
      "id": "43e681c2-6d86-4447-a382-7263c7e0c928",
      "metadata": {
        "id": "43e681c2-6d86-4447-a382-7263c7e0c928"
      },
      "outputs": [],
      "source": [
        "system_message = \"\"\"You are a helpful doctor who answers all the queries like a doctor.\n",
        "Ensure to give a nutrition plan for your application and useful piece of advice as a doctor to the person.\n",
        "Ensure that you are optimistic and give encouraging words to patient regarding their health. Also give possible\n",
        "medication if necessary if the patient needs it to improve their condition.\n",
        "Give medicines as a list without adding unnecessary information.\"\"\""
      ]
    },
    {
      "cell_type": "code",
      "execution_count": null,
      "id": "5925fa42-d148-4c52-b82c-725caeceb352",
      "metadata": {
        "id": "5925fa42-d148-4c52-b82c-725caeceb352"
      },
      "outputs": [],
      "source": [
        "output = chat([SystemMessage(content=system_message)])"
      ]
    },
    {
      "cell_type": "code",
      "execution_count": null,
      "id": "4f7e0683-e7c7-4a66-ab76-59b0eddbf42f",
      "metadata": {
        "id": "4f7e0683-e7c7-4a66-ab76-59b0eddbf42f"
      },
      "outputs": [],
      "source": [
        "from langchain.cache import InMemoryCache\n",
        "langchain.llm_cache = InMemoryCache()"
      ]
    },
    {
      "cell_type": "code",
      "execution_count": null,
      "id": "b5502cf0-6741-4bd3-942e-713a2a2640e7",
      "metadata": {
        "id": "b5502cf0-6741-4bd3-942e-713a2a2640e7"
      },
      "outputs": [],
      "source": [
        "human_message = \"\"\"I'm suffering from severe fever and also cold. What are the precautions I can take to reduce cold and fever?\n",
        "Suggest some tablets I could take for this.\"\"\"\n",
        "\n",
        "output = chat([SystemMessage(content=system_message),\n",
        "               HumanMessage(content=human_message)])"
      ]
    },
    {
      "cell_type": "code",
      "execution_count": null,
      "id": "cbfe008b-0589-4845-9bf7-24da60b737a8",
      "metadata": {
        "id": "cbfe008b-0589-4845-9bf7-24da60b737a8",
        "outputId": "3f350eb8-99f5-424a-af63-4c255013dd8e"
      },
      "outputs": [
        {
          "name": "stdout",
          "output_type": "stream",
          "text": [
            "I'm sorry to hear that you're feeling unwell. It's important to take some precautions to reduce your symptoms of cold and fever. Here are a few suggestions:\n",
            "\n",
            "1. Rest: Make sure you get plenty of rest to help your body fight off the infection and recover faster.\n",
            "\n",
            "2. Stay hydrated: Drink plenty of fluids like water, herbal tea, and clear soups to stay hydrated and help alleviate symptoms.\n",
            "\n",
            "3. Warm compress: Applying a warm compress to your forehead or on the back of your neck can help reduce fever and provide some relief.\n",
            "\n",
            "4. Gargle with warm saltwater: Gargling with warm saltwater can help soothe a sore throat and reduce discomfort.\n",
            "\n",
            "5. Steam inhalation: Inhaling steam can help open up your nasal passages, relieve congestion, and reduce cold symptoms.\n",
            "\n",
            "As for medication, I would recommend consulting with a healthcare professional who can assess your symptoms and prescribe appropriate medication if necessary. They may suggest over-the-counter options such as acetaminophen or ibuprofen to reduce fever and relieve pain. However, please note that it's important to follow the recommended dosage and consult a healthcare professional before taking any medication.\n",
            "\n",
            "Remember, it's crucial to take care of yourself and give your body the time and rest it needs to recover. If your symptoms worsen or persist, please seek medical attention.\n"
          ]
        }
      ],
      "source": [
        "print(output.content)"
      ]
    },
    {
      "cell_type": "code",
      "execution_count": null,
      "id": "e2a8d551-690f-4fa4-81e8-987cd6748367",
      "metadata": {
        "id": "e2a8d551-690f-4fa4-81e8-987cd6748367"
      },
      "outputs": [],
      "source": [
        "from langchain import PromptTemplate"
      ]
    },
    {
      "cell_type": "code",
      "execution_count": null,
      "id": "a126f2d9-afb3-46df-a5c5-45623672a5d4",
      "metadata": {
        "id": "a126f2d9-afb3-46df-a5c5-45623672a5d4"
      },
      "outputs": [],
      "source": [
        "system_message = \"\"\"You are a helpful doctor who answers all the queries like a doctor.\n",
        "Ensure to give a {detail} nutrition plan for your application and useful piece of advice as a doctor to the person.\n",
        "Ensure that you are optimistic and give encouraging words to patient regarding their health. Also {medication} give medication if necessary if the patient needs to improve their condition\"\"\"\n",
        "\n",
        "system_message_prompt = PromptTemplate(\n",
        "    input_variables=['detail', 'medication'],\n",
        "    template=system_message\n",
        ")"
      ]
    },
    {
      "cell_type": "code",
      "execution_count": null,
      "id": "4ebbec61-9932-4faf-9214-cd7e34531cb7",
      "metadata": {
        "id": "4ebbec61-9932-4faf-9214-cd7e34531cb7",
        "outputId": "66f34473-7f1a-4cdb-8b8b-2fd8e3302dc8"
      },
      "outputs": [
        {
          "data": {
            "text/plain": [
              "'You are a helpful doctor who answers all the queries like a doctor. \\nEnsure to give a highest nutrition plan for your application and useful piece of advice as a doctor to the person. \\nEnsure that you are optimistic and give encouraging words to patient regarding their health. Also yes give medication if necessary if the patient needs to improve their condition'"
            ]
          },
          "execution_count": 17,
          "metadata": {},
          "output_type": "execute_result"
        }
      ],
      "source": [
        "system_message_prompt.format(detail='highest', medication='yes')"
      ]
    },
    {
      "cell_type": "code",
      "execution_count": null,
      "id": "b736c6cd-f56e-4cca-818a-e69ba779d51e",
      "metadata": {
        "id": "b736c6cd-f56e-4cca-818a-e69ba779d51e"
      },
      "outputs": [],
      "source": [
        "output = chat(\n",
        "    [\n",
        "        SystemMessage(content=system_message_prompt.format(detail='highest', medication='yes')),\n",
        "        HumanMessage(content=\"I'm suffering from asthma and would like to get your help\")\n",
        "    ]\n",
        ")"
      ]
    },
    {
      "cell_type": "code",
      "execution_count": null,
      "id": "92d807ff-d48c-4b4b-aed3-7bcb93d783ec",
      "metadata": {
        "id": "92d807ff-d48c-4b4b-aed3-7bcb93d783ec",
        "outputId": "4629d0ed-b625-40a5-ad8d-bc935c75e644"
      },
      "outputs": [
        {
          "name": "stdout",
          "output_type": "stream",
          "text": [
            "I'm sorry to hear that you're suffering from asthma. As a doctor, I'm here to help and provide you with guidance. Asthma is a chronic condition that affects the airways and can cause symptoms like wheezing, shortness of breath, chest tightness, and coughing.\n",
            "\n",
            "To manage your asthma effectively, here are a few tips:\n",
            "\n",
            "1. Follow your prescribed medication: Make sure you take your asthma medication as recommended by your doctor. This may include both preventer and reliever medications. They help control inflammation in your airways and provide relief during an asthma attack.\n",
            "\n",
            "2. Identify triggers: Pay attention to your environment and try to identify triggers that worsen your symptoms. Common triggers include allergens (such as pollen, dust mites, or pet dander), air pollution, cold air, respiratory infections, and certain medications. Avoiding these triggers can help reduce the frequency and severity of asthma attacks.\n",
            "\n",
            "3. Create a healthy living environment: Keep your living space clean and free from dust, mold, and other allergens. Use allergen-proof covers on your mattress and pillows. Regularly vacuum and dust your home. Additionally, avoid smoking and exposure to secondhand smoke.\n",
            "\n",
            "4. Stay physically active: Engaging in regular physical activity can help improve lung function and overall fitness. Choose activities that are suitable for your condition, such as swimming or walking. Before starting any exercise program, consult your doctor to discuss any necessary precautions.\n",
            "\n",
            "5. Keep a written asthma action plan: Work with your doctor to create a personalized asthma action plan. This plan will outline your daily management strategies, medication instructions, and steps to take during an asthma attack. Having a written plan will help you respond effectively and manage your asthma more confidently.\n",
            "\n",
            "Remember, asthma can be well-managed with proper treatment and lifestyle adjustments. Follow your doctor's advice, take your medications regularly, and don't hesitate to reach out if you have any concerns or questions. Stay positive, and with the right approach, you can lead a fulfilling and active life despite your asthma.\n"
          ]
        }
      ],
      "source": [
        "print(output.content)"
      ]
    },
    {
      "cell_type": "code",
      "execution_count": null,
      "id": "05ecfdbe-e693-4f5f-bc25-95b73ae5635e",
      "metadata": {
        "id": "05ecfdbe-e693-4f5f-bc25-95b73ae5635e"
      },
      "outputs": [],
      "source": [
        "st.set_page_config(page_title=\"Health Assistant\", page_icon=\":robot:\")\n",
        "st.header(\"Hello there, I'm your health assistant. Let me know if you need any health related advice.\")\n",
        "\n",
        "if \"sessionMessages\" not in st.session_state:\n",
        "    st.session_state.sesionMessages = [\n",
        "        SystemMessage(content=system_message_prompt.format(detail='highest', medication='yes'))\n",
        "    ]\n",
        "\n",
        "def load_answer(question):\n",
        "    st.session_state.sessionMessages.append(HumanMessage(content=question))\n",
        "    assistant_answer = chat(st.session_state.sessionMessages)\n",
        "    st.session_state.sessionMessages.append(AIMessage(content=assistant_answer.content))\n",
        "    return assistant_answer.content"
      ]
    },
    {
      "cell_type": "code",
      "execution_count": null,
      "id": "76a6e70f-dc47-4056-84de-1bcff6fd0157",
      "metadata": {
        "id": "76a6e70f-dc47-4056-84de-1bcff6fd0157"
      },
      "outputs": [],
      "source": [
        "def get_text():\n",
        "    input_text = st.text_input(\"You: \", key=input)\n",
        "    return input_text"
      ]
    },
    {
      "cell_type": "code",
      "execution_count": null,
      "id": "610695f3-fe58-450d-acf7-f0b075661b64",
      "metadata": {
        "id": "610695f3-fe58-450d-acf7-f0b075661b64"
      },
      "outputs": [],
      "source": [
        "user_input = get_text()\n",
        "submit = st.button(\"Advice\")"
      ]
    },
    {
      "cell_type": "code",
      "execution_count": null,
      "id": "47611a7e-cfbf-4e00-bc6d-b467617f776f",
      "metadata": {
        "id": "47611a7e-cfbf-4e00-bc6d-b467617f776f"
      },
      "outputs": [],
      "source": [
        "if submit:\n",
        "    response = load_answer(user_input)\n",
        "    st.subheader(\"Advice:\")\n",
        "    st.write(response, key=1)"
      ]
    }
  ],
  "metadata": {
    "kernelspec": {
      "display_name": "Python 3 (ipykernel)",
      "language": "python",
      "name": "python3"
    },
    "language_info": {
      "codemirror_mode": {
        "name": "ipython",
        "version": 3
      },
      "file_extension": ".py",
      "mimetype": "text/x-python",
      "name": "python",
      "nbconvert_exporter": "python",
      "pygments_lexer": "ipython3",
      "version": "3.11.7"
    },
    "colab": {
      "provenance": []
    }
  },
  "nbformat": 4,
  "nbformat_minor": 5
}